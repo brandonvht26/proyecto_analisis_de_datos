{
 "cells": [
  {
   "cell_type": "code",
   "execution_count": 3,
   "id": "00a84cfc-549f-4f9c-8768-7657b3d11e5b",
   "metadata": {},
   "outputs": [
    {
     "name": "stdout",
     "output_type": "stream",
     "text": [
      "Requirement already satisfied: pyodbc in c:\\users\\brand\\appdata\\local\\programs\\python\\python313\\lib\\site-packages (5.2.0)\n"
     ]
    }
   ],
   "source": [
    "# Descargar e instalar este componente: https://go.microsoft.com/fwlink/?linkid=2307162\n",
    "\n",
    "# Instalar la librería:\n",
    "!pip install pyodbc"
   ]
  },
  {
   "cell_type": "code",
   "execution_count": 4,
   "id": "260bbe51-c3f3-448a-bf6b-371dbe25d5a8",
   "metadata": {},
   "outputs": [
    {
     "name": "stdout",
     "output_type": "stream",
     "text": [
      "Intentando conectar a Azure SQL Database...\n",
      "✅ ¡Éxito! La conexión con Azure SQL se estableció correctamente.\n",
      "Versión de SQL Server: Microsoft SQL Azure (RTM) - 12.0.2000.8 \n",
      "\tJul  3 2025 16:52:14 \n",
      "\tCopyright (C) 2025 Microsoft Corporation\n",
      "\n"
     ]
    }
   ],
   "source": [
    "# Probando conectividad con el servidor Azure SQL Database\n",
    "import pyodbc\n",
    "\n",
    "# --- 1. CONFIGURACIÓN ---\n",
    "server = 'proyecto-analisis-de-datos.database.windows.net' \n",
    "database = 'ProyectoFinalDB' # Aqui depende si usamos esta base de datos para todo o ustedes quieren crear más, pero yo preferiría que usemos esta para todo, nada más hay que tener cuidado con el nombre de las tablas que no se repitan\n",
    "username = 'admin-epn' \n",
    "password = 'Brandon.2.0' \n",
    "\n",
    "# --- 2. CONSTRUIR LA CADENA DE CONEXIÓN ---\n",
    "connection_string = (\n",
    "    f'DRIVER={{ODBC Driver 18 for SQL Server}};'\n",
    "    f'SERVER={server};'\n",
    "    f'DATABASE={database};'\n",
    "    f'UID={username};'\n",
    "    f'PWD={password}'\n",
    ")\n",
    "\n",
    "# --- 3. INTENTAR LA CONEXIÓN ---\n",
    "try:\n",
    "    print(\"Intentando conectar a Azure SQL Database...\")\n",
    "    with pyodbc.connect(connection_string, timeout=30) as cnxn:\n",
    "        print(\"✅ ¡Éxito! La conexión con Azure SQL se estableció correctamente.\")\n",
    "        \n",
    "        # Opcional: Hacemos una pequeña consulta para verificar\n",
    "        cursor = cnxn.cursor()\n",
    "        cursor.execute(\"SELECT @@VERSION;\")\n",
    "        row = cursor.fetchone()\n",
    "        print(f\"Versión de SQL Server: {row[0]}\")\n",
    "\n",
    "except pyodbc.Error as ex:\n",
    "    sqlstate = ex.args[0]\n",
    "    print(f\"❌ FALLO al conectar a Azure SQL.\")\n",
    "    print(f\"   Error: {sqlstate}\")"
   ]
  },
  {
   "cell_type": "code",
   "execution_count": null,
   "id": "becee215-d84c-496e-8b7e-5d85ae46c4f3",
   "metadata": {},
   "outputs": [],
   "source": []
  }
 ],
 "metadata": {
  "kernelspec": {
   "display_name": "Python 3 (ipykernel)",
   "language": "python",
   "name": "python3"
  },
  "language_info": {
   "codemirror_mode": {
    "name": "ipython",
    "version": 3
   },
   "file_extension": ".py",
   "mimetype": "text/x-python",
   "name": "python",
   "nbconvert_exporter": "python",
   "pygments_lexer": "ipython3",
   "version": "3.13.0"
  }
 },
 "nbformat": 4,
 "nbformat_minor": 5
}
